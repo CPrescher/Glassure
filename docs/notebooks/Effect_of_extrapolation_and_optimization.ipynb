{
 "cells": [
  {
   "cell_type": "markdown",
   "metadata": {},
   "source": [
    "# Effect of S(Q) extrapolation to zero on resulting PDFs\n",
    "\n",
    "We are going to load a data pattern and background Pattern of $Mg_2SiO_4$. The data is not optimal since it was not corrected for self-absorption or oblique x-ray incidence on the detector. A way to try to correct for this artificially is using an optimization method described in Eggert et al. (2002). This is very useful for the data analysis of total scattering experiments from a sample loaded in a diamond anvil cell were the background might change with compression and therefore almost never is perfect."
   ]
  },
  {
   "cell_type": "code",
   "execution_count": null,
   "outputs": [],
   "source": [
    "%matplotlib inline\n",
    "import os\n",
    "import sys\n",
    "import matplotlib.pyplot as plt\n",
    "import numpy as np\n",
    "\n",
    "from glassure.core.calc import calculate_fr, calculate_sq, calculate_gr\n",
    "from glassure.core.optimization import optimize_sq\n",
    "from glassure.core.utility import extrapolate_to_zero_poly, convert_density_to_atoms_per_cubic_angstrom\n",
    "from glassure.core import Pattern\n",
    "from tests import data_path"
   ],
   "metadata": {
    "collapsed": false
   }
  },
  {
   "cell_type": "markdown",
   "metadata": {},
   "source": [
    "## 1. Effect on S(Q)\n",
    "\n",
    "We are going to compare three different S(Q) pattern: \n",
    "  - \"raw\": pattern which is just the collected diffraction data subtracted by its background\n",
    "  - \"opt\": pattern optimized for an $r_{cutoff}$ of 1.5 and using 10 iterations\n",
    "  - \"extr_opt\": raw pattern which was extrapolated to zero using a polynomial function and then optimized by the same parameters as \"opt\""
   ]
  },
  {
   "cell_type": "code",
   "execution_count": null,
   "metadata": {
    "collapsed": false
   },
   "outputs": [],
   "source": [
    "data_pattern = Pattern.from_file(data_path('Mg2SiO4_ambient.xy'))\n",
    "bkg_pattern = Pattern.from_file(data_path('Mg2SiO4_ambient_bkg.xy'))\n",
    "sample_pattern = data_pattern - bkg_pattern\n",
    "\n",
    "composition = {'Mg': 2, 'Si':1, 'O':4}\n",
    "density = 2.9\n",
    "atomic_density = convert_density_to_atoms_per_cubic_angstrom(composition, density)\n",
    "\n",
    "sq = calculate_sq(sample_pattern.limit(0,20), density, composition)\n",
    "sq_opt = optimize_sq(sq, 1.4, 10, atomic_density)\n",
    "sq_extr= extrapolate_to_zero_poly(sq, 1.5, replace=True)\n",
    "sq_extr_opt = optimize_sq(sq_extr, 1.4, 10, atomic_density)\n",
    "\n",
    "plt.figure(figsize=(12, 15))\n",
    "plt.subplot(2,1,1)\n",
    "plt.plot(*sq.data, label='raw')\n",
    "plt.plot(*sq_opt.data, label='opt')\n",
    "plt.plot(*sq_extr_opt.data, label='extra_opt')\n",
    "plt.xlabel('Q $(\\AA^{-1})$')\n",
    "plt.ylabel('S(Q)')\n",
    "plt.legend()\n",
    "plt.subplot(2,1,2)\n",
    "plt.plot(*sq.data, label='raw')\n",
    "plt.plot(*sq_opt.data, label='opt')\n",
    "plt.plot(*sq_extr_opt.data, label='extra_opt')\n",
    "plt.xlabel('Q $(\\AA^{-1})$')\n",
    "plt.ylabel('S(Q)')\n",
    "plt.xlim(0, 7)\n",
    "\n",
    "plt.legend(loc='best');\n"
   ]
  },
  {
   "cell_type": "markdown",
   "metadata": {},
   "source": [
    "The two plots clearly show that the optimization on a not extrapolated S(Q) results in an artificial lower intensity of the first sharp diffraction peak. Pointing to that extrapolation is needed for a sensible data analysis."
   ]
  },
  {
   "cell_type": "markdown",
   "metadata": {},
   "source": [
    "## 2. Effect on F(r) and g(r)\n",
    "\n",
    "In this section we are going to compare F(r) and g(r) for 4 different data analysis methods:\n",
    "\n",
    "  - \"raw\": using S(Q) from the original data without any modification\n",
    "  - \"raw_extr\": using \"raw\" S(Q) which was extrapolated to zero Q using a polynomial function\n",
    "  - \"opt\": using S(Q) optimized for an $r_{cutoff}$ of 1.5 and using 10 iterations\n",
    "  - \"extr_opt\": using \"opt\" S(Q) which additionally was extrapolated to zero Q using a polynomial function and then optimized by the same parameters as \"opt\"\n",
    "\n"
   ]
  },
  {
   "cell_type": "code",
   "execution_count": null,
   "metadata": {
    "collapsed": false
   },
   "outputs": [],
   "source": [
    "fr = calculate_fr(sq, use_modification_fcn=True)\n",
    "fr_extr = calculate_fr(sq_extr, use_modification_fcn=True)\n",
    "fr_opt = calculate_fr(sq_opt, use_modification_fcn=True)\n",
    "fr_extr_opt = calculate_fr(sq_extr_opt, use_modification_fcn=True)\n",
    "\n",
    "gr = calculate_gr(fr, density, composition)\n",
    "gr_extr = calculate_gr(fr_extr, density, composition)\n",
    "gr_opt = calculate_gr(fr_opt, density, composition)\n",
    "gr_extr_opt = calculate_gr(fr_extr_opt, density, composition)\n",
    "\n",
    "plt.figure(figsize=(12,8))\n",
    "plt.subplot(1, 2, 1)\n",
    "plt.plot(*fr.data, label='raw', color='k', ls='-')\n",
    "plt.plot(*fr_extr.data, label='raw_extr',  color='r', ls='-')\n",
    "plt.plot(*fr_opt.data, label='opt', color='k', ls='--')\n",
    "plt.plot(*fr_extr_opt.data, label='extr_opt', color='r', ls='--')\n",
    "plt.xlim(0,5)\n",
    "plt.legend(loc='best')\n",
    "plt.xlabel('r $(\\AA)$')\n",
    "plt.ylabel('F(r)')\n",
    "plt.subplot(1, 2, 2)\n",
    "plt.plot(*gr.data, label='raw', color='k', ls='-')\n",
    "plt.plot(*gr_extr.data, label='raw_extr',  color='r', ls='-')\n",
    "plt.plot(*gr_opt.data, label='opt', color='k', ls='--')\n",
    "plt.plot(*gr_extr_opt.data, label='extr_opt', color='r', ls='--')\n",
    "plt.ylim(-0.2, 2)\n",
    "plt.xlim(0, 5)\n",
    "plt.legend(loc='best')\n",
    "plt.xlabel('r $(\\AA)$')\n",
    "plt.ylabel('g(r)');\n"
   ]
  },
  {
   "cell_type": "markdown",
   "metadata": {},
   "source": [
    "The two plots show that the intensity of the first peaks strongly depend on whether the S(Q) was extrapolated or not. This has a huge effect on the resulting coordination numbers. Another important fact is that the \"raw_extr\" is below an r value of 1.4 very close to the optimized transformed data, however the non extrapolated \"raw\" data has a huge offset, which is further indicating that one should use extrapolation of the S(Q) to zero in order to get meaningful results. "
   ]
  }
 ],
 "metadata": {
  "kernelspec": {
   "name": "python3",
   "language": "python",
   "display_name": "Python 3 (ipykernel)"
  },
  "language_info": {
   "codemirror_mode": {
    "name": "ipython",
    "version": 2
   },
   "file_extension": ".py",
   "mimetype": "text/x-python",
   "name": "python",
   "nbconvert_exporter": "python",
   "pygments_lexer": "ipython2",
   "version": "2.7.10"
  }
 },
 "nbformat": 4,
 "nbformat_minor": 0
}
