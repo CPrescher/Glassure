{
 "cells": [
  {
   "cell_type": "markdown",
   "metadata": {},
   "source": [
    "# Effect of Q$_{min}$ of S(Q) on the resulting F(r) and g(r)\n",
    "\n",
    "Diffraction data can almost never be collected to a $2\\theta$ value of zero. The primary beam is too strong, and thus a beam stop is needed in order to avoid exposure of the primary beam to the detector. Depending on the distance of the detector from the sample, the size of the beam stop and the used energy/wavelength the resulting data will start at a Q of somewhere between .5 $\\mathring A^{-1}$ and 1.5 $\\mathring A^{-1}$."
   ]
  },
  {
   "cell_type": "code",
   "execution_count": null,
   "metadata": {
    "collapsed": false
   },
   "outputs": [],
   "source": [
    "%matplotlib inline\n",
    "import os\n",
    "import sys\n",
    "import matplotlib.pyplot as plt\n",
    "import seaborn\n",
    "\n",
    "from glassure.core.calc import calculate_fr, calculate_sq, calculate_gr\n",
    "from glassure.core.optimization import optimize_sq\n",
    "from glassure.core.utility import extrapolate_to_zero_poly, extrapolate_to_zero_linear\n",
    "from glassure.core import Pattern\n",
    "from tests import data_path\n",
    "import numpy as np"
   ]
  },
  {
   "cell_type": "markdown",
   "metadata": {},
   "source": [
    "## 1. Working with a toy S(q)"
   ]
  },
  {
   "cell_type": "code",
   "execution_count": null,
   "metadata": {
    "collapsed": false
   },
   "outputs": [],
   "source": [
    "x = np.arange(0, 30, 0.01)\n",
    "y = np.ones(x.shape)\n",
    "y[x < 3] = 0\n",
    "plt.plot(x, y)\n",
    "plt.xlabel('Q $(\\AA^{-1})$')\n",
    "plt.ylabel('S(Q)')\n",
    "plt.ylim(-0.1, 1.1)"
   ]
  },
  {
   "cell_type": "code",
   "execution_count": null,
   "metadata": {
    "collapsed": false
   },
   "outputs": [],
   "source": [
    "sq_simulated = Pattern(x, y)\n",
    "fr_simulated = calculate_fr(sq_simulated)\n",
    "gr_simulated = calculate_gr(fr_simulated, 2.5, {'Si': 1})\n",
    "\n",
    "\n",
    "def plot_simulated(q_min):\n",
    "    fr_simulated_m = calculate_fr(sq_simulated.limit(q_min, 30))\n",
    "    gr_simulated_m = calculate_gr(fr_simulated_m, 2.5, {'Si': 1})\n",
    "\n",
    "    plt.figure(figsize=(8, 3))\n",
    "    plt.subplot(1, 2, 1)\n",
    "    plt.suptitle(\"$Q_{{min}}$={}\".format(q_min), size=16)\n",
    "    plt.plot(*fr_simulated.data)\n",
    "    plt.plot(*fr_simulated_m.data)\n",
    "    plt.xlabel('r $(\\AA)$')\n",
    "    plt.ylabel('F(r)')\n",
    "\n",
    "    plt.subplot(1, 2, 2)\n",
    "    plt.plot(*gr_simulated.data)\n",
    "    plt.plot(*gr_simulated_m.data)\n",
    "    plt.xlabel('r $(\\AA)$')\n",
    "    plt.ylabel('g(r)')\n",
    "\n",
    "\n",
    "q_min_list = np.arange(0.5, 3.5, 0.5)\n",
    "for q_min in q_min_list:\n",
    "    plot_simulated(q_min)"
   ]
  },
  {
   "cell_type": "markdown",
   "metadata": {},
   "source": [
    "## 2. Let's do the same with real data\n",
    "\n",
    "We are going to load a data pattern and background Pattern of $Mg_2SiO_4$. The data is not optimal, it was intentionally not corrected for self-absorption or oblique x-ray incidence on the detector. A way to try to correct for this is the optimization of the S(Q), which is described in Eggert et al. (2002). This is very useful for the data analysis of total scattering experiments from a sample e.g. loaded in a diamond anvil cell were the background might change with compression. In this kind of environment it is often very hard to know all the contributing background entities and further the background usually changes during compression.\n",
    "\n",
    "##2.1 Extrapolation prior to Optimization\n",
    "In the first example we will calculate S(Q) from the original data, then linearly extrapolate the pattern to zero and afterward optimize the S(Q) based on the method described in Eggert et al. (2002). After optimization the S(Q) is cut at different $Q_{min}$ in order to see the effect on the resulting F(r) and g(r). "
   ]
  },
  {
   "cell_type": "markdown",
   "metadata": {},
   "source": [
    "### 2.1.1 Original data "
   ]
  },
  {
   "cell_type": "code",
   "execution_count": null,
   "metadata": {
    "collapsed": false
   },
   "outputs": [],
   "source": [
    "data_pattern = Pattern.from_file(data_path('Mg2SiO4_ambient.xy'))\n",
    "bkg_pattern = Pattern.from_file(data_path('Mg2SiO4_ambient_bkg.xy'))\n",
    "sample_pattern = data_pattern - bkg_pattern\n",
    "\n",
    "composition = {'Mg': 2, 'Si': 1, 'O': 4}\n",
    "density = 2.9\n",
    "\n",
    "sq = calculate_sq(sample_pattern.limit(0, 20), density, composition)\n",
    "sq1 = extrapolate_to_zero_linear(sq)\n",
    "sq1_opt = optimize_sq(sq1, 1.5, 50, 0.088)\n",
    "\n",
    "plt.figure(figsize=(12, 5))\n",
    "plt.subplot(1, 2, 1)\n",
    "plt.plot(*sq1_opt.data)\n",
    "plt.xlabel('Q $(\\AA^{-1})$')\n",
    "plt.ylabel('S(Q)')\n",
    "plt.subplot(1, 2, 2)\n",
    "plt.plot(*sq1_opt.data)\n",
    "plt.xlabel('Q $(\\AA^{-1})$')\n",
    "plt.ylabel('S(Q)')\n",
    "plt.xlim(0, 3)\n",
    "plt.ylim(0, 1.2)"
   ]
  },
  {
   "cell_type": "markdown",
   "metadata": {},
   "source": [
    "### 2.1.2 Effect to F(r) and g(r)"
   ]
  },
  {
   "cell_type": "code",
   "execution_count": null,
   "metadata": {
    "collapsed": false,
    "scrolled": true
   },
   "outputs": [],
   "source": [
    "fr1 = calculate_fr(sq1_opt, use_modification_fcn=True)\n",
    "gr1 = calculate_gr(fr1, density, composition)\n",
    "\n",
    "\n",
    "def plot_all1(q_min):\n",
    "    fr1_m = calculate_fr(sq1_opt.limit(q_min, 40), use_modification_fcn=True)\n",
    "    gr1_m = calculate_gr(fr1_m, density, composition)\n",
    "\n",
    "    plt.figure(figsize=(12, 5))\n",
    "    plt.suptitle(\"$Q_{{min}}$={}\".format(q_min), size=16)\n",
    "    plt.subplot(1, 2, 1)\n",
    "    plt.plot(*fr1.data, label='to zero')\n",
    "    plt.plot(*fr1_m.data)\n",
    "    plt.xlabel('r $(\\AA)$')\n",
    "    plt.ylabel('F(r)')\n",
    "    plt.legend(loc='best')\n",
    "\n",
    "    plt.subplot(1, 2, 2)\n",
    "    plt.plot(*gr1.data, label='to zero')\n",
    "    plt.plot(*gr1_m.data)\n",
    "    plt.xlabel('r $(\\AA)$')\n",
    "    plt.ylabel('g(r)')\n",
    "    plt.legend(loc='best')\n",
    "\n",
    "\n",
    "q_min_list = np.arange(0.5, 2.5, 0.5)\n",
    "for q_min in q_min_list:\n",
    "    plot_all1(q_min)\n"
   ]
  },
  {
   "cell_type": "markdown",
   "metadata": {},
   "source": [
    "This result was completely surprising to me. Changing the $Q_{min}$ after optimization has a hug effect on F(r) and g(r). In particular the region below the first peak in g(r) is totally wrong. Which is a result of the $Q_{min}$ having a huge effect on density, which can also easily seen by the slope change in the F(r). "
   ]
  },
  {
   "cell_type": "markdown",
   "metadata": {
    "collapsed": true
   },
   "source": [
    "## 2.2 Optimization prior to Extrapolation \n",
    "\n",
    "In this example we will optimize the example data and afterward do the extrapolation to zero.  "
   ]
  },
  {
   "cell_type": "markdown",
   "metadata": {},
   "source": [
    "### 2.2.1 Original Data"
   ]
  },
  {
   "cell_type": "code",
   "execution_count": null,
   "metadata": {
    "collapsed": false
   },
   "outputs": [],
   "source": [
    "sq2 = calculate_sq(sample_pattern.limit(0, 20), density, composition)\n",
    "sq2 = optimize_sq(sq2, 1.5, 50, 0.088)\n",
    "sq2 = extrapolate_to_zero_linear(sq2)\n",
    "\n",
    "plt.figure(figsize=(12, 5))\n",
    "plt.subplot(1, 2, 1)\n",
    "plt.plot(*sq2.data)\n",
    "plt.xlabel('Q $(\\AA^{-1})$')\n",
    "plt.ylabel('S(Q)')\n",
    "plt.subplot(1, 2, 2)\n",
    "plt.plot(*sq2.data)\n",
    "plt.xlim(0, 3)\n",
    "plt.ylim(0, 1)\n",
    "plt.xlabel('Q $(\\AA^{-1})$')\n",
    "plt.ylabel('S(Q)')"
   ]
  },
  {
   "cell_type": "markdown",
   "metadata": {},
   "source": [
    "### 2.2.2 Changes in F(r) and g(r)"
   ]
  },
  {
   "cell_type": "code",
   "execution_count": null,
   "metadata": {
    "collapsed": false,
    "scrolled": true
   },
   "outputs": [],
   "source": [
    "fr2 = calculate_fr(sq2, use_modification_fcn=True)\n",
    "gr2 = calculate_gr(fr2, density, composition)\n",
    "\n",
    "\n",
    "def plot_all2(q_min):\n",
    "    fr2_m = calculate_fr(sq2.limit(q_min, 40), use_modification_fcn=True)\n",
    "    gr2_m = calculate_gr(fr2_m, density, composition)\n",
    "\n",
    "    plt.figure(figsize=(12, 5))\n",
    "    plt.suptitle(\"$Q_{{min}}$={}\".format(q_min), size=16)\n",
    "    plt.subplot(1, 2, 1)\n",
    "    plt.plot(*fr2.data, label=\"to zero\")\n",
    "    plt.plot(*fr2_m.data)\n",
    "    plt.legend(loc='best')\n",
    "    plt.xlabel('r $(\\AA)$')\n",
    "    plt.ylabel('F(r)')\n",
    "    plt.subplot(1, 2, 2)\n",
    "\n",
    "    plt.plot(*gr2.data, label=\"to zero\")\n",
    "    plt.plot(*gr2_m.data)\n",
    "    plt.legend(loc='best')\n",
    "    plt.xlabel('r $(\\AA)$')\n",
    "    plt.ylabel('g(r)')\n",
    "\n",
    "\n",
    "q_min_list = np.arange(0.5, 2.5, 0.5)\n",
    "for q_min in q_min_list:\n",
    "    plot_all2(q_min)\n"
   ]
  },
  {
   "cell_type": "markdown",
   "metadata": {},
   "source": [
    "Another surprising result. We see again an odd behavior in the region below the first peak. This time the S(Q) extrapolated to zero is already off. One can sense that only a $Q_{min}$ between 1.0 and 1.5 has a correct shape of the g(r), which is exactly where the $Q_{min}$ of the non-extrapolated S(Q) lies. This shows that the optimization process basically locks a specific density into the g(r) but by afterward changing $Q_{min}$ we get erroneous results since $Q_{min}$ has a strong effect on the resulting density in F(r) (defined by initial slope)."
   ]
  },
  {
   "cell_type": "markdown",
   "metadata": {},
   "source": [
    "## 2.3 Cutting the original data at different minimum q\n",
    "\n",
    "The above examples have shown that a change in minimum Q used has a strong effect on density (initial slope in f(r)) and on intensities in g(r) (resulting in different coordination numbers).\n",
    "\n",
    "Another issue which can be explored is cutting the original sample data at different Q$_{min}$ values, then extrapolating to zero and do the optimization and see the effect on the resulting F(r) and g(r). This is very applicable to normal data collections, due to different sizes in beam stops the Q$_{min}$ for each beamline, data collection, or used energy might be different. This might also be the most meaningful way in order get reproducible data."
   ]
  },
  {
   "cell_type": "markdown",
   "metadata": {},
   "source": [
    "### 2.3.1 Using linear Extrapolation"
   ]
  },
  {
   "cell_type": "code",
   "execution_count": null,
   "metadata": {
    "collapsed": false
   },
   "outputs": [],
   "source": [
    "sq3 = calculate_sq(sample_pattern.limit(0, 20), density, composition)\n",
    "sq3_extrapolated = extrapolate_to_zero_linear(sq3)\n",
    "sq3_opt = optimize_sq(sq3_extrapolated, 1.5, 50, 0.088)\n",
    "\n",
    "fr3 = calculate_fr(sq3_opt, use_modification_fcn=True)\n",
    "\n",
    "\n",
    "def plot_all3(q_min):\n",
    "    sq3_m = calculate_sq(sample_pattern.limit(q_min, 20), density, composition)\n",
    "    sq3_m_extrapolated = extrapolate_to_zero_linear(sq3_m)\n",
    "    sq3_m_opt = optimize_sq(sq3_m_extrapolated, 1.5, 50, 0.088)\n",
    "    fr3_m = calculate_fr(sq3_m_opt, use_modification_fcn=True)\n",
    "\n",
    "    plt.figure(figsize=(12, 4))\n",
    "    plt.suptitle(\"$Q_{{min}}$={}\".format(q_min), size=16)\n",
    "    plt.subplot(1, 2, 1)\n",
    "    plt.plot(*sq3_opt.data, label=\"to zero\")\n",
    "    plt.plot(*sq3_m_opt.data)\n",
    "    plt.xlim(0, 4)\n",
    "    plt.ylim(0, 1.2)\n",
    "    plt.legend(loc='best')\n",
    "    plt.xlabel('Q $(\\AA^{-1})$')\n",
    "    plt.ylabel('S(Q)')\n",
    "    plt.subplot(1, 2, 2)\n",
    "    plt.plot(*fr3.data, label=\"to zero\")\n",
    "    plt.plot(*fr3_m.data)\n",
    "    plt.legend(loc='best')\n",
    "    plt.xlabel('r $(\\AA)$')\n",
    "    plt.ylabel('F(r)')\n",
    "\n",
    "\n",
    "q_min_list = np.arange(1.2, 2.4, 0.25)\n",
    "for q_min in q_min_list:\n",
    "    plot_all3(q_min)"
   ]
  },
  {
   "cell_type": "markdown",
   "metadata": {},
   "source": [
    "From the above pictures it can be seen that a too high $Q_{min}$ results in strongly changes FSDP after optimization and therefore also the resulting F(r) has changed peak intensities. However, densities (slop of g(r)) seems to be not effected...  "
   ]
  },
  {
   "cell_type": "markdown",
   "metadata": {},
   "source": [
    "### 2.3.2 Using polynomial extrapolation \n",
    "\n",
    "Another way to extrapolate the S(Q) data to zero would be to use the polynomial extension of the form:\n",
    "\n",
    "$a(x-c)+b(x-c)^2$\n",
    "\n",
    "whereby $a,b>0$, $c$ defines the intercept with $S(Q)=0$ and everything below $c$ will be set to zero."
   ]
  },
  {
   "cell_type": "code",
   "execution_count": null,
   "metadata": {
    "collapsed": false
   },
   "outputs": [],
   "source": [
    "sq4 = calculate_sq(sample_pattern.limit(0, 20), density, composition)\n",
    "sq4_extrapolated = extrapolate_to_zero_poly(sq4, 2.1)\n",
    "sq4_opt = optimize_sq(sq4_extrapolated, 1.5, 50, 0.088)\n",
    "\n",
    "fr4 = calculate_fr(sq4_opt, use_modification_fcn=True)\n",
    "\n",
    "\n",
    "def plot_all4(q_min):\n",
    "    sq4_m = calculate_sq(sample_pattern.limit(q_min, 20), density, composition)\n",
    "    sq4_m_extrapolated = extrapolate_to_zero_poly(sq4_m, 2.1)\n",
    "    sq4_m_opt = optimize_sq(sq4_m_extrapolated, 1.5, 50, 0.088)\n",
    "    fr4_m = calculate_fr(sq4_m_opt, use_modification_fcn=True)\n",
    "\n",
    "    plt.figure(figsize=(12, 5))\n",
    "    plt.suptitle(\"$Q_{{min}}$={:0.1f}\".format(q_min), size=16)\n",
    "    plt.subplot(1, 2, 1)\n",
    "    plt.plot(*sq4_opt.data)\n",
    "    plt.plot(*sq4_m_opt.data)\n",
    "    plt.xlim(0, 4)\n",
    "    plt.ylim(0, 1.2)\n",
    "    plt.subplot(1, 2, 2)\n",
    "    plt.plot(*fr4.data, label=\"to zero\")\n",
    "    plt.plot(*fr4_m.data)\n",
    "    plt.legend(loc='best')\n",
    "    plt.xlabel('r $(\\AA)$')\n",
    "    plt.ylabel('F(r)')\n",
    "\n",
    "\n",
    "q_min_list = np.arange(1.2, 2.1, 0.2)\n",
    "for q_min in q_min_list:\n",
    "    plot_all4(q_min)"
   ]
  },
  {
   "cell_type": "markdown",
   "metadata": {},
   "source": [
    "It can be easily seen that by using a polynomial extrapolation prior to optimization the $Q_{min}$ value has a very small effect on the resulting F(r). Which means that this is a very robust data analysis method even when the original data is cutting into the first sharp diffraction peak due to a for example too large beam stop or very high energy diffraction "
   ]
  },
  {
   "cell_type": "markdown",
   "metadata": {},
   "source": [
    "### 2.3.2 Set S(Q) to zero below Q$_{min}$\n",
    "\n",
    "Some publication do not extrapolate the data to by using a functional form but set everything below the lowest minimum q collected to 0."
   ]
  },
  {
   "cell_type": "code",
   "execution_count": null,
   "metadata": {
    "collapsed": false
   },
   "outputs": [],
   "source": [
    "sq5 = calculate_sq(sample_pattern.limit(0, 20), density, composition)\n",
    "sq5_extrapolated = extrapolate_to_zero_poly(sq5, 2.1)\n",
    "sq5_opt = optimize_sq(sq5_extrapolated, 1.5, 50, 0.088)\n",
    "\n",
    "fr5 = calculate_fr(sq5_opt, use_modification_fcn=True)\n",
    "\n",
    "\n",
    "def plot_all5(q_min):\n",
    "    sq5_m = calculate_sq(sample_pattern.limit(q_min, 20), density, composition)\n",
    "    sq5_m_extrapolated = extrapolate_to_zero_linear(sq5_m)\n",
    "\n",
    "    x, y = sq5_m_extrapolated.data\n",
    "    y[x <= q_min] = 0\n",
    "    sq5_m_extrapolated = Pattern(x, y)\n",
    "\n",
    "    sq5_m_opt = optimize_sq(sq5_m_extrapolated, 1.5, 50, 0.088)\n",
    "    fr5_m = calculate_fr(sq5_m_opt, use_modification_fcn=True)\n",
    "\n",
    "    plt.figure(figsize=(12, 5))\n",
    "    plt.suptitle(\"$Q_{{min}}$={:0.1f}\".format(q_min), size=16)\n",
    "    plt.subplot(1, 2, 1)\n",
    "    plt.plot(*sq5_opt.data, label=\"to zero\")\n",
    "    plt.plot(*sq5_m_opt.data)\n",
    "    plt.xlim(0, 4)\n",
    "    plt.ylim(0, 1.2)\n",
    "    plt.legend(loc='best')\n",
    "    plt.subplot(1, 2, 2)\n",
    "    plt.plot(*fr5.data, label=\"to zero\")\n",
    "    plt.plot(*fr5_m.data)\n",
    "    plt.legend(loc='best')\n",
    "    plt.xlabel('r $(\\AA)$')\n",
    "    plt.ylabel('F(r)')\n",
    "\n",
    "\n",
    "q_min_list = np.arange(1.2, 2.1, 0.2)\n",
    "for q_min in q_min_list:\n",
    "    plot_all5(q_min)"
   ]
  },
  {
   "cell_type": "markdown",
   "metadata": {},
   "source": [
    "It can be easily seen that when the first sharp diffraction peak (FSDP) is cut at too large q values the optimization method artificially increases the intensity of the FSDP and thus also the resulting F(r) Intensities are completely different. This method seems to only work when the FSDP is almost completely present in the original data. "
   ]
  },
  {
   "cell_type": "markdown",
   "metadata": {},
   "source": [
    "## 3. Conclusion\n",
    "\n",
    "Based on the above exploration of all the possibilities for using extrapolation in combination with optimization I came to the following conclusions\n",
    "\n",
    "  - Extrapolation to zero should be always used since otherwise the density shown in the initial slope of the F(r) is different\n",
    "  - Extrapolation of the data to zero should be done prior to optimization (see section 2.1/2.2)\n",
    "  - the polynomial extrapolation has the smallest effect on the resulting F(r) and g(r)"
   ]
  },
  {
   "cell_type": "code",
   "execution_count": null,
   "outputs": [],
   "source": [],
   "metadata": {
    "collapsed": false
   }
  }
 ],
 "metadata": {
  "kernelspec": {
   "name": "python3",
   "language": "python",
   "display_name": "Python 3 (ipykernel)"
  },
  "language_info": {
   "codemirror_mode": {
    "name": "ipython",
    "version": 2
   },
   "file_extension": ".py",
   "mimetype": "text/x-python",
   "name": "python",
   "nbconvert_exporter": "python",
   "pygments_lexer": "ipython2",
   "version": "2.7.10"
  }
 },
 "nbformat": 4,
 "nbformat_minor": 0
}
